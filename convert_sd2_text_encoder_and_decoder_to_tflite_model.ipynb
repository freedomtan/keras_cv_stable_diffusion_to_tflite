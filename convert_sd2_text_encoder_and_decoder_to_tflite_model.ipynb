{
 "cells": [
  {
   "cell_type": "code",
   "execution_count": null,
   "id": "de53ef16-9441-427e-aa27-afe6f83c7d37",
   "metadata": {},
   "outputs": [],
   "source": [
    "import tensorflow as tf\n",
    "import keras_cv\n",
    "from tensorflow import keras"
   ]
  },
  {
   "cell_type": "code",
   "execution_count": null,
   "id": "efffa7b3-95fb-4d05-9aad-bc2fb01ff5bf",
   "metadata": {},
   "outputs": [],
   "source": [
    "# load the pipeline, get text_encoder and decoder\n",
    "\n",
    "model = keras_cv.models.StableDiffusionV2(img_width=768, img_height=768)\n",
    "text_encoder_model = model.text_encoder\n",
    "decoder_model = model.decoder"
   ]
  },
  {
   "cell_type": "code",
   "execution_count": null,
   "id": "e31cbe6c",
   "metadata": {},
   "outputs": [],
   "source": [
    "# convert the two models to tflite\n",
    "\n",
    "converter1 = tf.lite.TFLiteConverter.from_keras_model(text_encoder_model)\n",
    "tflite_text_encoder = converter1.convert()\n",
    "\n",
    "converter2 = tf.lite.TFLiteConverter.from_keras_model(decoder_model)\n",
    "tflite_decoder = converter2.convert()\n",
    "\n",
    "with open('/tmp/sd2_text_encoder.tflite', 'wb') as f:\n",
    "    f.write(tflite_text_encoder)\n",
    "    \n",
    "with open('/tmp/sd2_decoder.tflite', 'wb') as f:\n",
    "    f.write(tflite_decoder)"
   ]
  },
  {
   "cell_type": "code",
   "execution_count": null,
   "id": "8a7789bd-5a02-4c31-9442-c7b3d0a2059e",
   "metadata": {},
   "outputs": [],
   "source": [
    "text_encoder_model.save('/tmp/sd2/text_encoder')\n",
    "decoder_model.save('/tmp/sd2/decoder')"
   ]
  },
  {
   "cell_type": "code",
   "execution_count": null,
   "id": "187b26fd-d59f-40b7-b9c8-514e3064ea81",
   "metadata": {},
   "outputs": [],
   "source": [
    "text_encoder_model = tf.saved_model.load('/tmp/sd2/text_encoder/')\n",
    "concrete_func = text_encoder_model.signatures[tf.saved_model.DEFAULT_SERVING_SIGNATURE_DEF_KEY]\n",
    "concrete_func.inputs[0].set_shape([1, 77])\n",
    "concrete_func.inputs[1].set_shape([1, 77])\n",
    "converter1 = tf.lite.TFLiteConverter.from_concrete_functions([concrete_func])\n",
    "tflite_text_encoder = converter1.convert()\n",
    "\n",
    "decoder_model = tf.saved_model.load('/tmp/sd2/decoder/')\n",
    "concrete_func = decoder_model.signatures[tf.saved_model.DEFAULT_SERVING_SIGNATURE_DEF_KEY]\n",
    "concrete_func.inputs[0].set_shape([1, 96, 96, 4])\n",
    "converter2 = tf.lite.TFLiteConverter.from_concrete_functions([concrete_func])\n",
    "tflite_decoder = converter2.convert()\n",
    "\n",
    "with open('/tmp/sd2_text_encoder_fixed_batch.tflite', 'wb') as f:\n",
    "    f.write(tflite_text_encoder)\n",
    "    \n",
    "with open('/tmp/sd2_decoder_fixed_batch.tflite', 'wb') as f:\n",
    "    f.write(tflite_decoder)"
   ]
  },
  {
   "cell_type": "code",
   "execution_count": null,
   "id": "98cd59cd-eafb-44fe-867d-0fbf914c7460",
   "metadata": {},
   "outputs": [],
   "source": []
  }
 ],
 "metadata": {
  "kernelspec": {
   "display_name": "Python 3 (ipykernel)",
   "language": "python",
   "name": "python3"
  },
  "language_info": {
   "codemirror_mode": {
    "name": "ipython",
    "version": 3
   },
   "file_extension": ".py",
   "mimetype": "text/x-python",
   "name": "python",
   "nbconvert_exporter": "python",
   "pygments_lexer": "ipython3",
   "version": "3.9.6"
  }
 },
 "nbformat": 4,
 "nbformat_minor": 5
}
